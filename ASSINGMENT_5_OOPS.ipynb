{
  "nbformat": 4,
  "nbformat_minor": 0,
  "metadata": {
    "colab": {
      "provenance": []
    },
    "kernelspec": {
      "name": "python3",
      "display_name": "Python 3"
    },
    "language_info": {
      "name": "python"
    }
  },
  "cells": [
    {
      "cell_type": "markdown",
      "source": [
        "**Q.1. What are the five key concepts of Object-Oriented Programming (OOP)?**\n",
        "\n",
        "**ANS:** The five key concepts of Object-Oriented Programming (OOP) are:\n",
        "\n",
        "**Encapsulation –** Bundling data (variables) and methods (functions) that operate on the data into a single unit called a class. It helps in data hiding and protection.\n",
        "\n",
        "**Abstraction –** Hiding complex implementation details and exposing only the necessary functionalities to the user. It simplifies interactions with objects.\n",
        "\n",
        "**Inheritance –** Allowing a class (child/subclass) to inherit properties and behaviors from another class (parent/superclass), promoting code reuse and hierarchy.\n",
        "\n",
        "**Polymorphism –** Allowing objects to be treated as instances of their parent class, enabling a single interface to represent different underlying forms (e.g., method overloading and overriding).\n",
        "\n",
        "**Composition (or Association) –** Instead of relying solely on inheritance, composition allows classes to be built using other classes, promoting flexibility and code reuse."
      ],
      "metadata": {
        "id": "R38cfjbuWwZm"
      }
    },
    {
      "cell_type": "markdown",
      "source": [
        "**Q.2. Write a Python class for a `Car` with attributes for `make`, `model`, and `year`. Include a method to display\n",
        "the car's information.**\n",
        "\n",
        "**ANS:** Here’s a simple Python class for a Car with attributes for make, model, and year, along with a method to display the car’s information:"
      ],
      "metadata": {
        "id": "1ozTs9x7fmqt"
      }
    },
    {
      "cell_type": "code",
      "source": [
        "class Car:\n",
        "    def __init__(self, make, model, year):\n",
        "        \"\"\"Initialize the Car object with make, model, and year.\"\"\"\n",
        "        self.make = make\n",
        "        self.model = model\n",
        "        self.year = year\n",
        "\n",
        "    def display_info(self):\n",
        "        \"\"\"Display the car's information.\"\"\"\n",
        "        return f\"{self.year} {self.make} {self.model}\"\n",
        "\n",
        "# Example usage:\n",
        "car1 = Car(\"Toyota\", \"Camry\", 2023)\n",
        "print(car1.display_info())  # Output: 2023 Toyota Camry\n"
      ],
      "metadata": {
        "colab": {
          "base_uri": "https://localhost:8080/"
        },
        "id": "7Klf2jCcfzJN",
        "outputId": "faae6e43-2bcb-45b4-fb24-2d6a31b88314"
      },
      "execution_count": 1,
      "outputs": [
        {
          "output_type": "stream",
          "name": "stdout",
          "text": [
            "2023 Toyota Camry\n"
          ]
        }
      ]
    },
    {
      "cell_type": "markdown",
      "source": [
        "**Q.3. Explain the difference between instance methods and class methods. Provide an example of each.**\n",
        "\n",
        "# **ANS:** Difference Between Instance Methods and Class Methods\n",
        "\n",
        "**Instance Methods**\n",
        "\n",
        "Operate on an instance of the class.\n",
        "\n",
        "Have access to instance attributes (self).\n",
        "\n",
        "Can modify both instance and class attributes.\n",
        "\n",
        "\n",
        "**Class Methods**\n",
        "\n",
        "Operate on the class itself rather than instances.\n",
        "\n",
        "Use @classmethod decorator.\n",
        "\n",
        "Receive cls as the first parameter instead of self.\n",
        "\n",
        "Can modify class attributes but cannot access instance attributes directly.\n"
      ],
      "metadata": {
        "id": "V-Ls0C_EgBPT"
      }
    },
    {
      "cell_type": "code",
      "source": [
        "class Car:\n",
        "    # Class attribute (shared by all instances)\n",
        "    total_cars = 0\n",
        "\n",
        "    def __init__(self, make, model, year):\n",
        "        \"\"\"Initialize instance attributes.\"\"\"\n",
        "        self.make = make\n",
        "        self.model = model\n",
        "        self.year = year\n",
        "        Car.total_cars += 1  # Increment total cars when a new instance is created\n",
        "\n",
        "    def display_info(self):\n",
        "        \"\"\"Instance method: Displays information about the car.\"\"\"\n",
        "        return f\"{self.year} {self.make} {self.model}\"\n",
        "\n",
        "    @classmethod\n",
        "    def get_total_cars(cls):\n",
        "        \"\"\"Class method: Returns the total number of Car instances created.\"\"\"\n",
        "        return f\"Total cars created: {cls.total_cars}\"\n",
        "\n",
        "# Example usage:\n",
        "car1 = Car(\"Toyota\", \"Camry\", 2023)\n",
        "car2 = Car(\"Honda\", \"Civic\", 2022)\n",
        "\n",
        "print(car1.display_info())  # Instance method call\n",
        "print(Car.get_total_cars())  # Class method call\n"
      ],
      "metadata": {
        "colab": {
          "base_uri": "https://localhost:8080/"
        },
        "id": "rU167LnUgb10",
        "outputId": "e56014f0-b002-4ef1-eabb-45fe1f152150"
      },
      "execution_count": 2,
      "outputs": [
        {
          "output_type": "stream",
          "name": "stdout",
          "text": [
            "2023 Toyota Camry\n",
            "Total cars created: 2\n"
          ]
        }
      ]
    },
    {
      "cell_type": "markdown",
      "source": [
        "**Q.4. How does Python implement method overloading? Give an example**\n",
        "\n",
        "**ANS:** **Method Overloading in Python**\n",
        "\n",
        "Python does not support traditional method overloading like Java or C++ (where multiple methods can have the same name but different parameters). Instead, Python handles method overloading using default arguments or *args/**kwargs.\n",
        "\n",
        "\n",
        "\n",
        "\n"
      ],
      "metadata": {
        "id": "WK2RluVwhWed"
      }
    },
    {
      "cell_type": "code",
      "source": [
        "class Calculator:\n",
        "    def add(self, a, b=0, c=0):\n",
        "        \"\"\"Method to add up to three numbers with default values.\"\"\"\n",
        "        return a + b + c\n",
        "\n",
        "# Example usage:\n",
        "calc = Calculator()\n",
        "print(calc.add(5))         # Output: 5  (Uses default values for b and c)\n",
        "print(calc.add(5, 10))     # Output: 15\n",
        "print(calc.add(5, 10, 15)) # Output: 30\n"
      ],
      "metadata": {
        "colab": {
          "base_uri": "https://localhost:8080/"
        },
        "id": "zuDy1CC0hxsa",
        "outputId": "46020b47-75b0-40c7-e7cd-f235364b4e72"
      },
      "execution_count": 3,
      "outputs": [
        {
          "output_type": "stream",
          "name": "stdout",
          "text": [
            "5\n",
            "15\n",
            "30\n"
          ]
        }
      ]
    },
    {
      "cell_type": "code",
      "source": [
        "class Calculator:\n",
        "    def add(self, *numbers):\n",
        "        \"\"\"Method that adds any number of arguments.\"\"\"\n",
        "        return sum(numbers)\n",
        "\n",
        "# Example usage:\n",
        "calc = Calculator()\n",
        "print(calc.add(5))               # Output: 5\n",
        "print(calc.add(5, 10))           # Output: 15\n",
        "print(calc.add(5, 10, 15, 20))   # Output: 50\n"
      ],
      "metadata": {
        "colab": {
          "base_uri": "https://localhost:8080/"
        },
        "id": "yORVGFjWh1jh",
        "outputId": "0c2886bc-797c-4e43-8531-0ddfaba3f66d"
      },
      "execution_count": 4,
      "outputs": [
        {
          "output_type": "stream",
          "name": "stdout",
          "text": [
            "5\n",
            "15\n",
            "50\n"
          ]
        }
      ]
    },
    {
      "cell_type": "markdown",
      "source": [
        "**5. What are the three types of access modifiers in Python? How are they denoted?**\n",
        "\n",
        "**ANS:** **Three Types of Access Modifiers in Python**:\n",
        "\n",
        "Python uses naming conventions to define access control for class attributes and methods. Unlike some languages (e.g., Java, C++), Python does not enforce strict access control but relies on convention and trust.\n",
        "\n",
        "\n",
        "**Access Modifier\t**              Symbol\t                        Description\n",
        "**Public**\n",
        " *SYMBOL* :  No underscore (var)\tAccessible from anywhere inside or outside the class.\n",
        "\n",
        "*Description*: Accessible from anywhere inside or outside the class.\n",
        "\n",
        "\n",
        "**Protected**\n",
        "*SYMBOL*: Single underscore (_var)\tShould not be accessed directly but can be accessed within subclasses.\n",
        "\n",
        "*DESCRIPTION* : Should not be accessed directly but can be accessed within subclasses\n",
        "\n",
        "\n",
        "**Private**\n",
        "\n",
        "*SYMBOL* : Double underscore (__var)\n",
        "*DESCRIPTIONS*:  Name-mangled to prevent direct access, intended for internal use only.\n",
        "\n"
      ],
      "metadata": {
        "id": "CR_gG2O9h8tM"
      }
    },
    {
      "cell_type": "markdown",
      "source": [
        "**Q.6. Describe the five types of inheritance in Python. Provide a simple example of multiple inheritance.**\n",
        "\n",
        "**ANS:** **Five Types of Inheritance in Python**\n",
        "\n",
        "1.SINGLE INHERITANCE  : A child class inherits from one parent class.\n",
        "\n",
        "2.Multiple Inheritance : A child class inherits from multiple parent classes.\n",
        "python.\n",
        "\n",
        "3.Multilevel Inheritance  : A chain of inheritance where a child class inherits from another child class.\n",
        "\n",
        "4.Hierarchical Inheritance : Multiple child classes inherit from the same parent class.\n",
        "\n",
        "5.Hybrid Inheritance  : A mix of two or more types of inheritance (e.g., a combination of multiple and multilevel inheritance).\n"
      ],
      "metadata": {
        "id": "KFEKftNSkT8w"
      }
    },
    {
      "cell_type": "code",
      "source": [
        "class Parent:\n",
        "    def greet(self):\n",
        "        print(\"Hello from Parent\")\n",
        "\n",
        "class Child(Parent):\n",
        "    pass\n",
        "\n",
        "obj = Child()\n",
        "obj.greet()  # Output: Hello from Parent\n"
      ],
      "metadata": {
        "colab": {
          "base_uri": "https://localhost:8080/"
        },
        "id": "qNoeHQqonoQE",
        "outputId": "18489a30-e884-44b0-81f5-e6418b45493e"
      },
      "execution_count": 5,
      "outputs": [
        {
          "output_type": "stream",
          "name": "stdout",
          "text": [
            "Hello from Parent\n"
          ]
        }
      ]
    },
    {
      "cell_type": "code",
      "source": [
        "class A:\n",
        "    def method_a(self):\n",
        "        print(\"Method from A\")\n",
        "\n",
        "class B:\n",
        "    def method_b(self):\n",
        "        print(\"Method from B\")\n",
        "\n",
        "class C(A, B):\n",
        "    pass\n",
        "\n",
        "obj = C()\n",
        "obj.method_a()  # Output: Method from A\n",
        "obj.method_b()  # Output: Method from B\n"
      ],
      "metadata": {
        "colab": {
          "base_uri": "https://localhost:8080/"
        },
        "id": "pv9juncrnt3Y",
        "outputId": "1c99ab56-bb03-40e9-f627-f6db9524dea5"
      },
      "execution_count": 6,
      "outputs": [
        {
          "output_type": "stream",
          "name": "stdout",
          "text": [
            "Method from A\n",
            "Method from B\n"
          ]
        }
      ]
    },
    {
      "cell_type": "code",
      "source": [
        "class Grandparent:\n",
        "    def method_gp(self):\n",
        "        print(\"Method from Grandparent\")\n",
        "\n",
        "class Parent(Grandparent):\n",
        "    pass\n",
        "\n",
        "class Child(Parent):\n",
        "    pass\n",
        "\n",
        "obj = Child()\n",
        "obj.method_gp()  # Output: Method from Grandparent\n"
      ],
      "metadata": {
        "colab": {
          "base_uri": "https://localhost:8080/"
        },
        "id": "wyb3yywQnwuG",
        "outputId": "6f6c68c9-7cce-4401-c364-5a3c76baa70d"
      },
      "execution_count": 7,
      "outputs": [
        {
          "output_type": "stream",
          "name": "stdout",
          "text": [
            "Method from Grandparent\n"
          ]
        }
      ]
    },
    {
      "cell_type": "code",
      "source": [
        "class Parent:\n",
        "    def greet(self):\n",
        "        print(\"Hello from Parent\")\n",
        "\n",
        "class Child1(Parent):\n",
        "    pass\n",
        "\n",
        "class Child2(Parent):\n",
        "    pass\n",
        "\n",
        "obj1 = Child1()\n",
        "obj2 = Child2()\n",
        "obj1.greet()  # Output: Hello from Parent\n",
        "obj2.greet()  # Output: Hello from Parent\n"
      ],
      "metadata": {
        "colab": {
          "base_uri": "https://localhost:8080/"
        },
        "id": "fWMQnsJvn0TN",
        "outputId": "7d70d246-2f0f-4930-f0c7-e7fa5302d856"
      },
      "execution_count": 8,
      "outputs": [
        {
          "output_type": "stream",
          "name": "stdout",
          "text": [
            "Hello from Parent\n",
            "Hello from Parent\n"
          ]
        }
      ]
    },
    {
      "cell_type": "code",
      "source": [
        "class A:\n",
        "    def method_a(self):\n",
        "        print(\"Method from A\")\n",
        "\n",
        "class B(A):\n",
        "    pass\n",
        "\n",
        "class C:\n",
        "    def method_c(self):\n",
        "        print(\"Method from C\")\n",
        "\n",
        "class D(B, C):  # Hybrid (combining Multilevel and Multiple)\n",
        "    pass\n",
        "\n",
        "obj = D()\n",
        "obj.method_a()  # Output: Method from A\n",
        "obj.method_c()  # Output: Method from C\n"
      ],
      "metadata": {
        "colab": {
          "base_uri": "https://localhost:8080/"
        },
        "id": "GK0YucCgn3rJ",
        "outputId": "e365b7ed-8a36-4bf8-97c4-f687879d83d2"
      },
      "execution_count": 9,
      "outputs": [
        {
          "output_type": "stream",
          "name": "stdout",
          "text": [
            "Method from A\n",
            "Method from C\n"
          ]
        }
      ]
    },
    {
      "cell_type": "markdown",
      "source": [
        "**Q.7. What is the Method Resolution Order (MRO) in Python? How can you retrieve it programmatically?**\n",
        "\n",
        "**ANS:** **Method Resolution Order (MRO) in Python**\n",
        "\n",
        "The **Method Resolution Order (MRO)** determines the sequence in which Python searches for methods or attributes in a class hierarchy, especially in multiple inheritance scenarios.\n",
        "\n",
        "Python follows the C3 Linearization (also called the C3 algorithm) to ensure a consistent method resolution order.\n",
        "\n",
        "### MRO Search Order\n",
        "\n",
        "Self (Current Class)\n",
        "\n",
        "Parent Classes (Left to Right)\n",
        "\n",
        "Grandparent Classes (Depth-First)\n",
        "\n",
        "Object Class (If Not Found Elsewhere)\n",
        "\n",
        "Retrieving MRO Programmatically\n",
        "\n",
        "#### There are three ways to check the MRO of a class:\n",
        "\n",
        "1. Using the __mro__ attribute\n",
        "2. Using the mro() method\n",
        "3. Using help() function\n",
        "\n",
        "**Key Takeaways**\n",
        "\n",
        "✅ MRO ensures a consistent search path in multiple inheritance.\n",
        "\n",
        "✅ It prevents ambiguity when multiple parent classes have the same method.\n",
        "\n",
        "✅ Use mro(), __mro__, or help() to inspect the method resolution order."
      ],
      "metadata": {
        "id": "K2BgqiwlodeX"
      }
    },
    {
      "cell_type": "code",
      "source": [
        "class A: pass\n",
        "class B(A): pass\n",
        "class C(A): pass\n",
        "class D(B, C): pass\n",
        "\n",
        "print(D.__mro__)\n",
        "# Output: (<class '__main__.D'>, <class '__main__.B'>, <class '__main__.C'>, <class '__main__.A'>, <class 'object'>)\n"
      ],
      "metadata": {
        "colab": {
          "base_uri": "https://localhost:8080/"
        },
        "id": "PnnNfGUXpkQN",
        "outputId": "aa4d6f5c-f886-47e3-8ec1-857047c5131c"
      },
      "execution_count": 10,
      "outputs": [
        {
          "output_type": "stream",
          "name": "stdout",
          "text": [
            "(<class '__main__.D'>, <class '__main__.B'>, <class '__main__.C'>, <class '__main__.A'>, <class 'object'>)\n"
          ]
        }
      ]
    },
    {
      "cell_type": "code",
      "source": [
        "print(D.mro())\n",
        "# Output: [<class '__main__.D'>, <class '__main__.B'>, <class '__main__.C'>, <class '__main__.A'>, <class 'object'>]\n"
      ],
      "metadata": {
        "colab": {
          "base_uri": "https://localhost:8080/"
        },
        "id": "77NNf_4ApoQM",
        "outputId": "5b6142dd-586f-4181-c303-952c8ff80eb4"
      },
      "execution_count": 11,
      "outputs": [
        {
          "output_type": "stream",
          "name": "stdout",
          "text": [
            "[<class '__main__.D'>, <class '__main__.B'>, <class '__main__.C'>, <class '__main__.A'>, <class 'object'>]\n"
          ]
        }
      ]
    },
    {
      "cell_type": "code",
      "source": [
        "help(D)\n",
        "help(D)\n"
      ],
      "metadata": {
        "colab": {
          "base_uri": "https://localhost:8080/"
        },
        "id": "pXc8XFb9psJv",
        "outputId": "8798967e-e500-49d3-e82a-49a266a72cad"
      },
      "execution_count": 12,
      "outputs": [
        {
          "output_type": "stream",
          "name": "stdout",
          "text": [
            "Help on class D in module __main__:\n",
            "\n",
            "class D(B, C)\n",
            " |  Method resolution order:\n",
            " |      D\n",
            " |      B\n",
            " |      C\n",
            " |      A\n",
            " |      builtins.object\n",
            " |  \n",
            " |  Data descriptors inherited from A:\n",
            " |  \n",
            " |  __dict__\n",
            " |      dictionary for instance variables\n",
            " |  \n",
            " |  __weakref__\n",
            " |      list of weak references to the object\n",
            "\n",
            "Help on class D in module __main__:\n",
            "\n",
            "class D(B, C)\n",
            " |  Method resolution order:\n",
            " |      D\n",
            " |      B\n",
            " |      C\n",
            " |      A\n",
            " |      builtins.object\n",
            " |  \n",
            " |  Data descriptors inherited from A:\n",
            " |  \n",
            " |  __dict__\n",
            " |      dictionary for instance variables\n",
            " |  \n",
            " |  __weakref__\n",
            " |      list of weak references to the object\n",
            "\n"
          ]
        }
      ]
    },
    {
      "cell_type": "code",
      "source": [
        "class A:\n",
        "    def show(self):\n",
        "        print(\"Method from A\")\n",
        "\n",
        "class B(A):\n",
        "    def show(self):\n",
        "        print(\"Method from B\")\n",
        "\n",
        "class C(A):\n",
        "    def show(self):\n",
        "        print(\"Method from C\")\n",
        "\n",
        "class D(B, C):  # Multiple Inheritance\n",
        "    pass\n",
        "\n",
        "obj = D()\n",
        "obj.show()  # Output: Method from B (Left-to-Right Priority)\n",
        "\n",
        "print(D.mro())\n"
      ],
      "metadata": {
        "colab": {
          "base_uri": "https://localhost:8080/"
        },
        "id": "YTKBQKqtp1y4",
        "outputId": "f319392a-86b6-437f-f85d-f3932fc7835b"
      },
      "execution_count": 13,
      "outputs": [
        {
          "output_type": "stream",
          "name": "stdout",
          "text": [
            "Method from B\n",
            "[<class '__main__.D'>, <class '__main__.B'>, <class '__main__.C'>, <class '__main__.A'>, <class 'object'>]\n"
          ]
        }
      ]
    },
    {
      "cell_type": "markdown",
      "source": [
        "**Q.8. Create an abstract base class `Shape` with an abstract method `area()`. Then create two subclasses\n",
        "`Circle` and `Rectangle` that implement the `area()` method.**\n",
        "\n",
        "**ANS :**\n",
        "Abstract Base Class (ABC) in Python\n",
        "\n",
        "In Python, an abstract base class (ABC) is a class that cannot be instantiated and serves as a blueprint for other classes. It defines abstract methods that must be implemented in derived (child) classes.\n",
        "\n",
        "To create an abstract class, we use the abc module with the ABC class and @abstractmethod decorator.\n",
        "\n",
        "**Explanation**\n",
        "\n",
        "Abstract Base Class (Shape)\n",
        "\n",
        "Inherits from ABC (Abstract Base Class).\n",
        "\n",
        "Defines an abstract method area() that must be implemented by subclasses.\n",
        "\n",
        "Concrete Subclasses (Circle and Rectangle)\n",
        "\n",
        "**Both inherit from Shape.**\n",
        "\n",
        "Implement the area() method as required.\n",
        "\n",
        "Key Features\n",
        "\n",
        "✅ Abstract methods must be overridden in child classes.\n",
        "\n",
        "✅ Trying to instantiate Shape will raise an error (TypeError).\n",
        "\n",
        "✅ Concrete classes (Circle, Rectangle) can be instantiated and use the area() method."
      ],
      "metadata": {
        "id": "m8yLmwQ_p9vg"
      }
    },
    {
      "cell_type": "code",
      "source": [
        "from abc import ABC, abstractmethod\n",
        "import math\n",
        "\n",
        "# Abstract Base Class\n",
        "class Shape(ABC):\n",
        "    @abstractmethod\n",
        "    def area(self):\n",
        "        \"\"\"Abstract method that must be implemented by subclasses\"\"\"\n",
        "        pass\n",
        "\n",
        "# Subclass for Circle\n",
        "class Circle(Shape):\n",
        "    def __init__(self, radius):\n",
        "        self.radius = radius\n",
        "\n",
        "    def area(self):\n",
        "        \"\"\"Calculate area of a circle: π * r²\"\"\"\n",
        "        return math.pi * self.radius ** 2\n",
        "\n",
        "# Subclass for Rectangle\n",
        "class Rectangle(Shape):\n",
        "    def __init__(self, width, height):\n",
        "        self.width = width\n",
        "        self.height = height\n",
        "\n",
        "    def area(self):\n",
        "        \"\"\"Calculate area of a rectangle: width * height\"\"\"\n",
        "        return self.width * self.height\n",
        "\n",
        "# Example usage:\n",
        "circle = Circle(5)\n",
        "rectangle = Rectangle(4, 6)\n",
        "\n",
        "print(f\"Circle Area: {circle.area():.2f}\")  # Output: Circle Area: 78.54\n",
        "print(f\"Rectangle Area: {rectangle.area()}\")  # Output: Rectangle Area: 24\n"
      ],
      "metadata": {
        "colab": {
          "base_uri": "https://localhost:8080/"
        },
        "id": "unfFcq-mqb6g",
        "outputId": "f6a5105e-c7e9-4aed-e19e-c01f99b11439"
      },
      "execution_count": 14,
      "outputs": [
        {
          "output_type": "stream",
          "name": "stdout",
          "text": [
            "Circle Area: 78.54\n",
            "Rectangle Area: 24\n"
          ]
        }
      ]
    },
    {
      "cell_type": "markdown",
      "source": [
        "**Q.9. Demonstrate polymorphism by creating a function that can work with different shape objects to calculate\n",
        "and print their areas.**\n",
        "\n",
        "**ANS :** Polymorphism in Python with Shapes\n",
        "\n",
        "Polymorphism allows the same function to work with different object types. In this example, we create a function that calculates the area of different shapes using dynamic method resolution.\n",
        "\n",
        "Explanation\n",
        "\n",
        "**Abstract Base Class (Shape)**\n",
        "\n",
        "-Defines the area() method, which must be implemented in subclasses.\n",
        "\n",
        "**Concrete Subclasses (Circle, Rectangle, Triangle)**\n",
        "\n",
        "-Each class implements the area() method differently, as required.\n",
        "\n",
        "**Polymorphic Function (print_area)**\n",
        "\n",
        "-Takes any shape object and calls area() dynamically.\n",
        "\n",
        "-Works with any subclass of Shape, demonstrating polymorphism.\n",
        "\n",
        "**Looping Through Different Shapes**\n",
        "\n",
        "-The same function (print_area) correctly calls area() on different objects.\n"
      ],
      "metadata": {
        "id": "UAVBZHOdqlQJ"
      }
    },
    {
      "cell_type": "code",
      "source": [
        "from abc import ABC, abstractmethod\n",
        "import math\n",
        "\n",
        "# Abstract Base Class\n",
        "class Shape(ABC):\n",
        "    @abstractmethod\n",
        "    def area(self):\n",
        "        pass\n",
        "\n",
        "# Subclass for Circle\n",
        "class Circle(Shape):\n",
        "    def __init__(self, radius):\n",
        "        self.radius = radius\n",
        "\n",
        "    def area(self):\n",
        "        return math.pi * self.radius ** 2\n",
        "\n",
        "# Subclass for Rectangle\n",
        "class Rectangle(Shape):\n",
        "    def __init__(self, width, height):\n",
        "        self.width = width\n",
        "        self.height = height\n",
        "\n",
        "    def area(self):\n",
        "        return self.width * self.height\n",
        "\n",
        "# Subclass for Triangle\n",
        "class Triangle(Shape):\n",
        "    def __init__(self, base, height):\n",
        "        self.base = base\n",
        "        self.height = height\n",
        "\n",
        "    def area(self):\n",
        "        return 0.5 * self.base * self.height\n",
        "\n",
        "# Polymorphic Function\n",
        "def print_area(shape):\n",
        "    \"\"\"Function that takes any shape object and prints its area\"\"\"\n",
        "    print(f\"The area of the {shape.__class__.__name__} is: {shape.area():.2f}\")\n",
        "\n",
        "# Example usage:\n",
        "shapes = [Circle(5), Rectangle(4, 6), Triangle(4, 3)]\n",
        "\n",
        "for shape in shapes:\n",
        "    print_area(shape)\n",
        "\n"
      ],
      "metadata": {
        "colab": {
          "base_uri": "https://localhost:8080/"
        },
        "id": "gltnccChsR09",
        "outputId": "7cba4274-8af9-4bf4-ec60-8f9cc4a2d72d"
      },
      "execution_count": 15,
      "outputs": [
        {
          "output_type": "stream",
          "name": "stdout",
          "text": [
            "The area of the Circle is: 78.54\n",
            "The area of the Rectangle is: 24.00\n",
            "The area of the Triangle is: 6.00\n"
          ]
        }
      ]
    },
    {
      "cell_type": "markdown",
      "source": [
        "**Q.10. Implement encapsulation in a `BankAccount` class with private attributes for `balance` and\n",
        "`account_number`. Include methods for deposit, withdrawal, and balance inquiry.**\n",
        "\n",
        "**ANS:** Encapsulation in Python  – BankAccount Example\n",
        "\n",
        "Encapsulation is a fundamental principle of Object-Oriented Programming (OOP) that restricts direct access to class attributes, ensuring data security and integrity. In Python, private attributes are denoted using a double underscore (__).\n",
        "\n",
        "##Key Features of Encapsulation in This Example##\n",
        "\n",
        "**Private Attributes (__balance, __account_number)**\n",
        "\n",
        "Cannot be accessed directly outside the class.\n",
        "\n",
        "**Public Methods (deposit(), withdraw(), get_balance())**\n",
        "\n",
        "Provide controlled access to private attributes.\n",
        "\n",
        "**Getter Methods (get_balance(), get_account_number())**\n",
        "\n",
        "Allow read-only access to private attributes while keeping them secure.\n",
        "\n",
        "**Prevents Direct Modification**\n",
        "\n",
        "Users cannot directly modify the balance (e.g., account.__balance = 9999) ensuring data integrity."
      ],
      "metadata": {
        "id": "QtF44EhRsrNc"
      }
    },
    {
      "cell_type": "code",
      "source": [
        "class BankAccount:\n",
        "    def __init__(self, account_number, balance=0.0):\n",
        "        \"\"\"Initialize account with a private balance and account number.\"\"\"\n",
        "        self.__account_number = account_number  # Private attribute\n",
        "        self.__balance = balance  # Private attribute\n",
        "\n",
        "    def deposit(self, amount):\n",
        "        \"\"\"Deposits money into the account.\"\"\"\n",
        "        if amount > 0:\n",
        "            self.__balance += amount\n",
        "            print(f\"Deposited ${amount:.2f}. New balance: ${self.__balance:.2f}\")\n",
        "        else:\n",
        "            print(\"Deposit amount must be positive.\")\n",
        "\n",
        "    def withdraw(self, amount):\n",
        "        \"\"\"Withdraws money from the account if sufficient balance exists.\"\"\"\n",
        "        if 0 < amount <= self.__balance:\n",
        "            self.__balance -= amount\n",
        "            print(f\"Withdrew ${amount:.2f}. Remaining balance: ${self.__balance:.2f}\")\n",
        "        else:\n",
        "            print(\"Insufficient funds or invalid amount.\")\n",
        "\n",
        "    def get_balance(self):\n",
        "        \"\"\"Returns the current balance (Encapsulated using a getter).\"\"\"\n",
        "        return self.__balance\n",
        "\n",
        "    def get_account_number(self):\n",
        "        \"\"\"Returns the account number (Encapsulated using a getter).\"\"\"\n",
        "        return self.__account_number\n",
        "\n",
        "# Example Usage:\n",
        "account = BankAccount(\"123456789\", 1000.0)\n",
        "\n",
        "# Accessing balance via method (Encapsulation)\n",
        "print(f\"Account Number: {account.get_account_number()}\")  # Output: 123456789\n",
        "print(f\"Current Balance: ${account.get_balance():.2f}\")  # Output: $1000.00\n",
        "\n",
        "# Performing transactions\n",
        "account.deposit(500)    # Deposited $500.00. New balance: $1500.00\n",
        "account.withdraw(200)   # Withdrew $200.00. Remaining balance: $1300.00\n",
        "account.withdraw(2000)  # Insufficient funds or invalid amount.\n",
        "\n",
        "# Attempting direct access to private attributes (This will fail)\n",
        "# print(account.__balance)  # AttributeError: 'BankAccount' object has no attribute '__balance'\n",
        "# print(account.__account_number)  # AttributeError\n",
        "\n",
        "# Accessing private attributes using name mangling (Not recommended)\n",
        "print(f\"Hidden Balance: ${account._BankAccount__balance:.2f}\")  # Works, but breaks encapsulation\n"
      ],
      "metadata": {
        "colab": {
          "base_uri": "https://localhost:8080/"
        },
        "id": "eW1C7HHxvMkM",
        "outputId": "d76ed5f8-45cc-43c1-8ed1-b0845ffd6eb7"
      },
      "execution_count": 16,
      "outputs": [
        {
          "output_type": "stream",
          "name": "stdout",
          "text": [
            "Account Number: 123456789\n",
            "Current Balance: $1000.00\n",
            "Deposited $500.00. New balance: $1500.00\n",
            "Withdrew $200.00. Remaining balance: $1300.00\n",
            "Insufficient funds or invalid amount.\n",
            "Hidden Balance: $1300.00\n"
          ]
        }
      ]
    },
    {
      "cell_type": "markdown",
      "source": [
        "**11. Write a class that overrides the `__str__` and `__add__` magic methods. What will these methods allow\n",
        "you to do?**\n",
        "\n",
        "**ANS:** Overriding __str__ and __add__ Magic Methods\n",
        "\n",
        "In Python, magic methods (also known as dunder methods) allow you to customize the behavior of objects. Overriding the __str__ and __add__ methods enables you to define how an object is represented as a string and how objects of that class can be added together.\n",
        "\n",
        "\n",
        "__str__:\n",
        "\n",
        "\n",
        "This method is used to define the string representation of an object.\n",
        "\n",
        "It’s called when you use str() or print() on an object.\n",
        "\n",
        "It helps in providing a user-friendly string representation.\n",
        "\n",
        "\n",
        "__add__:\n",
        "\n",
        "\n",
        "This method defines the behavior of the addition operator (+) for objects of the class.\n",
        "\n",
        "It allows you to customize how two objects of the same class (or other types) can be added together.\n",
        "\n",
        "### What These Methods Allow You to Do:\n",
        "\n",
        "\n",
        "__str__:\n",
        "\n",
        "\n",
        "Customizes how an object is represented as a string (e.g., when using print() or str()).\n",
        "\n",
        "Makes your objects more user-friendly and readable.\n",
        "\n",
        "\n",
        "__add__:\n",
        "\n",
        "\n",
        "Enables you to use the + operator to add objects of your class.\n",
        "\n",
        "\n",
        "In this case, adding two Point objects results in a new Point with the summed coordinates.\n"
      ],
      "metadata": {
        "id": "iNoh8nkzvW3N"
      }
    },
    {
      "cell_type": "code",
      "source": [
        "class Point:\n",
        "    def __init__(self, x, y):\n",
        "        self.x = x\n",
        "        self.y = y\n",
        "\n",
        "    def __str__(self):\n",
        "        \"\"\"Override __str__ to provide a custom string representation.\"\"\"\n",
        "        return f\"Point({self.x}, {self.y})\"\n",
        "\n",
        "    def __add__(self, other):\n",
        "        \"\"\"Override __add__ to allow adding two Point objects.\"\"\"\n",
        "        if isinstance(other, Point):\n",
        "            # Adding corresponding x and y coordinates of two points\n",
        "            return Point(self.x + other.x, self.y + other.y)\n",
        "        return NotImplemented\n",
        "\n",
        "# Example usage:\n",
        "point1 = Point(2, 3)\n",
        "point2 = Point(4, 5)\n",
        "\n",
        "print(point1)  # Output: Point(2, 3)\n",
        "print(point2)  # Output: Point(4, 5)\n",
        "\n",
        "# Adding two Point objects\n",
        "point3 = point1 + point2\n",
        "print(point3)  # Output: Point(6, 8)\n"
      ],
      "metadata": {
        "colab": {
          "base_uri": "https://localhost:8080/"
        },
        "id": "X6oNn6lAwQad",
        "outputId": "80680800-c482-477c-d94f-906b0d53cca7"
      },
      "execution_count": 17,
      "outputs": [
        {
          "output_type": "stream",
          "name": "stdout",
          "text": [
            "Point(2, 3)\n",
            "Point(4, 5)\n",
            "Point(6, 8)\n"
          ]
        }
      ]
    },
    {
      "cell_type": "markdown",
      "source": [
        "**Q.12. Create a decorator that measures and prints the execution time of a function.**\n",
        "\n",
        "**ANS:** Creating a Decorator to Measure Execution Time\n",
        "\n",
        "A decorator in Python is a function that takes another function as an argument and extends its behavior. In this case, we’ll create a decorator that measures the execution time of a function.\n",
        "\n",
        "\n",
        "We'll use the time module to track the start and end time of the function execution.\n",
        "\n",
        "xplanation:\n",
        "\n",
        "###measure_time Decorator:\n",
        "\n",
        "This function takes a function func as an argument.\n",
        "\n",
        "\n",
        "###Inside it, the wrapper function is defined to:\n",
        "\n",
        "Record the start time using time.time().\n",
        "\n",
        "Call the original function using func(*args, **kwargs).\n",
        "\n",
        "Record the end time after the function executes.\n",
        "\n",
        "Calculate and print the execution time.\n",
        "\n",
        "\n",
        "###@measure_time Syntax:\n",
        "\n",
        "This is the syntax used to apply the decorator to a function. In this case, slow_function will have the execution time measured and printed every time it is called."
      ],
      "metadata": {
        "id": "At_xomrXxHgN"
      }
    },
    {
      "cell_type": "code",
      "source": [
        "import time\n",
        "\n",
        "# Define the decorator\n",
        "def measure_time(func):\n",
        "    def wrapper(*args, **kwargs):\n",
        "        # Record the start time\n",
        "        start_time = time.time()\n",
        "\n",
        "        # Call the actual function\n",
        "        result = func(*args, **kwargs)\n",
        "\n",
        "        # Record the end time\n",
        "        end_time = time.time()\n",
        "\n",
        "        # Calculate and print the execution time\n",
        "        execution_time = end_time - start_time\n",
        "        print(f\"Execution time of {func.__name__}: {execution_time:.4f} seconds\")\n",
        "\n",
        "        return result\n",
        "\n",
        "    return wrapper\n",
        "\n",
        "# Example function to test the decorator\n",
        "@measure_time\n",
        "def slow_function():\n",
        "    time.sleep(2)  # Simulate a slow function with a 2-second sleep\n",
        "\n",
        "# Call the function\n",
        "slow_function()\n"
      ],
      "metadata": {
        "colab": {
          "base_uri": "https://localhost:8080/"
        },
        "id": "AOY4FfwTyDQ8",
        "outputId": "ee5c3a27-addd-446c-8b78-1f54e246de1d"
      },
      "execution_count": 18,
      "outputs": [
        {
          "output_type": "stream",
          "name": "stdout",
          "text": [
            "Execution time of slow_function: 2.0002 seconds\n"
          ]
        }
      ]
    },
    {
      "cell_type": "markdown",
      "source": [
        "**Q.13. Explain the concept of the Diamond Problem in multiple inheritance. How does Python resolve it?**\n",
        "\n",
        "**ANS:** The Diamond Problem in Multiple Inheritance\n",
        "\n",
        "The Diamond Problem (also known as the Deadly Diamond of Death) is a complication that arises in multiple inheritance. It occurs when a class inherits from two classes that both inherit from a common base class, creating a diamond-shaped class hierarchy.\n",
        "\n",
        "Issues Caused by the Diamond Problem:\n",
        "\n",
        "Method Resolution Order (MRO) ambiguity: If class D calls a method that is present in both B and C, which one should be executed? Should it be the one from B, the one from C, or the one from A?\n",
        "\n",
        "Duplicated Inheritance: If D inherits from both B and C, it may inherit multiple copies of the methods or attributes from A.\n",
        "\n",
        "How Python Resolves the Diamond Problem\n",
        "\n",
        "\n",
        "Python uses a method called C3 Linearization (C3 superclass linearization) to resolve the Diamond Problem. This approach provides a clear Method Resolution Order (MRO), which determines the exact order in which classes are searched for methods or attributes\n",
        "\n",
        "**Key Points in Python’s Resolution:**\n",
        "\n",
        "\n",
        "MRO defines the order in which Python looks for methods in the class hierarchy.\n",
        "\n",
        "Python follows a left-to-right and depth-first approach to resolve the method hierarchy.\n",
        "\n",
        "If there are multiple paths to a class (like in the Diamond Problem), the method from the closest class in the hierarchy is chosen.\n",
        "\n",
        "Python ensures that each class is only called once, preventing method duplication.\n",
        "\n",
        "\n",
        "\n",
        "####Python C3 Linearization works by determining the MRO for each class, considering:\n",
        "\n",
        "The order of inheritance in the class definition.\n",
        "\n",
        "The depth-first search of ancestors.\n",
        "\n",
        "###How Python Resolves Diamond Problem:\n",
        "\n",
        "Python ensures that the method from B is called and that the method in C is skipped (even though C inherits from A).\n",
        "\n",
        "The C3 Linearization provides a consistent, predictable MRO that avoids ambiguity and duplicate method calls.\n",
        "\n",
        "\n",
        "\n",
        "\n",
        "###Summary:\n",
        "\n",
        "\n",
        "The Diamond Problem occurs in multiple inheritance when a class inherits from two classes that share a common ancestor.\n",
        "\n",
        "Python resolves this issue using C3 Linearization, ensuring a well-defined Method Resolution Order (MRO).\n",
        "\n",
        "This allows Python to call the correct method without ambiguity, ensuring clarity in complex inheritance hierarchies."
      ],
      "metadata": {
        "id": "3gMjhE4My0UU"
      }
    },
    {
      "cell_type": "code",
      "source": [
        "class A:\n",
        "    def show(self):\n",
        "        print(\"Method from class A\")\n",
        "\n",
        "class B(A):\n",
        "    def show(self):\n",
        "        print(\"Method from class B\")\n",
        "\n",
        "class C(A):\n",
        "    def show(self):\n",
        "        print(\"Method from class C\")\n",
        "\n",
        "class D(B, C):  # D inherits from B and C (both inherit from A)\n",
        "    pass\n",
        "\n",
        "# Creating an instance of D\n",
        "d = D()\n",
        "d.show()\n"
      ],
      "metadata": {
        "colab": {
          "base_uri": "https://localhost:8080/"
        },
        "id": "J3vi9LJX0oZD",
        "outputId": "a54f53b7-dab3-4957-a14a-b61d0565f06b"
      },
      "execution_count": 20,
      "outputs": [
        {
          "output_type": "stream",
          "name": "stdout",
          "text": [
            "Method from class B\n"
          ]
        }
      ]
    },
    {
      "cell_type": "markdown",
      "source": [
        "**Q.14. Write a class method that keeps track of the number of instances created from a class.**\n",
        "\n",
        "\n",
        "**ANS :** Tracking the Number of Instances with a Class Method\n",
        "To track the number of instances created from a class, you can use a class variable. A class method can then be used to update and retrieve this variable each time a new instance is created.\n",
        "\n",
        "\n",
        "\n",
        "The idea is to have a class variable that holds the count of instances, and a class method to return the count.\n",
        "\n",
        "\n",
        "\n",
        "##Explanation:\n",
        "\n",
        "**Class Variable instance_count:**\n",
        "\n",
        "instance_count is a class-level variable that tracks how many instances have been created. It is shared across all instances of the class.\n",
        "\n",
        "\n",
        "**Constructor (__init__):**\n",
        "\n",
        "The __init__ method is called each time a new object is instantiated. It increments the instance_count class variable by 1 whenever a new instance is created.\n",
        "\n",
        "\n",
        "**Class Method get_instance_count:**\n",
        "\n",
        "The @classmethod decorator defines a class method. The method takes cls as its first parameter, which represents the class itself.\n",
        "\n",
        "This method allows us to access the instance_count class variable and return the total number of instances created.\n",
        "\n",
        "\n",
        "**Accessing the Class Method:**\n",
        "\n",
        "MyClass.get_instance_count() is used to access the method and print the number of instances."
      ],
      "metadata": {
        "id": "Yof1erkh07vh"
      }
    },
    {
      "cell_type": "code",
      "source": [
        "class MyClass:\n",
        "    instance_count = 0  # Class variable to store the number of instances\n",
        "\n",
        "    def __init__(self):\n",
        "        \"\"\"Constructor to increment instance count each time an object is created.\"\"\"\n",
        "        MyClass.instance_count += 1\n",
        "\n",
        "    @classmethod\n",
        "    def get_instance_count(cls):\n",
        "        \"\"\"Class method to return the number of instances created.\"\"\"\n",
        "        return cls.instance_count\n",
        "\n",
        "# Example usage:\n",
        "# Creating instances of MyClass\n",
        "obj1 = MyClass()\n",
        "obj2 = MyClass()\n",
        "obj3 = MyClass()\n",
        "\n",
        "# Getting the number of instances created\n",
        "print(MyClass.get_instance_count())  # Output: 3\n"
      ],
      "metadata": {
        "colab": {
          "base_uri": "https://localhost:8080/"
        },
        "id": "_ReMHcsr2LcA",
        "outputId": "461f29f5-6cd5-4ac4-bf5a-555bc494603e"
      },
      "execution_count": 21,
      "outputs": [
        {
          "output_type": "stream",
          "name": "stdout",
          "text": [
            "3\n"
          ]
        }
      ]
    },
    {
      "cell_type": "markdown",
      "source": [
        "**Q.15. Implement a static method in a class that checks if a given year is a leap year.**\n",
        "\n",
        "**ANS:**   Static Method to Check Leap Year\n",
        "\n",
        "A static method is a method that belongs to the class but doesn’t require access to the instance (self) or the class (cls). It is often used for utility functions that are logically related to the class but do not need to modify the class or instance state.\n",
        "\n",
        "\n",
        "In this case, we can implement a static method that checks if a given year is a leap year.\n",
        "\n",
        "\n",
        "**Leap Year Logic:**\n",
        "\n",
        "####A year is a leap year if:\n",
        "\n",
        "1. It is divisible by 4, and\n",
        "2. It is not divisible by 100, unless,\n",
        "3. It is divisible by 400.\n",
        "\n",
        "###Explanation:\n",
        "\n",
        "\n",
        "**@staticmethod Decorator:**\n",
        "\n",
        "The @staticmethod decorator is used to define a static method. This method does not require access to the instance (self) or the class (cls).\n",
        "\n",
        "The method is_leap_year accepts a year argument and checks if it's a leap year based on the provided leap year rules.\n",
        "\n",
        "**Leap Year Calculation:**\n",
        "\n",
        "\n",
        "The method checks if the year is divisible by 4 but not by 100 unless it is also divisible by 400. This condition is implemented with the if statement.\n",
        "\n",
        "\n",
        "**Calling the Static Method:**\n",
        "\n",
        "Static methods can be called using the class name (YearUtility.is_leap_year()), without needing to create an instance of the class.\n",
        "\n"
      ],
      "metadata": {
        "id": "D8o--4RW2cYV"
      }
    },
    {
      "cell_type": "code",
      "source": [
        "class YearUtility:\n",
        "\n",
        "    @staticmethod\n",
        "    def is_leap_year(year):\n",
        "        \"\"\"Static method to check if the given year is a leap year.\"\"\"\n",
        "        if (year % 4 == 0 and year % 100 != 0) or (year % 400 == 0):\n",
        "            return True\n",
        "        return False\n",
        "\n",
        "# Example usage:\n",
        "print(YearUtility.is_leap_year(2020))  # Output: True (2020 is a leap year)\n",
        "print(YearUtility.is_leap_year(2021))  # Output: False (2021 is not a leap year)\n",
        "print(YearUtility.is_leap_year(1900))  # Output: False (1900 is not a leap year)\n",
        "print(YearUtility.is_leap_year(2000))  # Output: True (2000 is a leap year)\n"
      ],
      "metadata": {
        "colab": {
          "base_uri": "https://localhost:8080/"
        },
        "id": "dzbBxhN93-x6",
        "outputId": "679855a5-08bd-4a2e-e328-23e67b4806dc"
      },
      "execution_count": 22,
      "outputs": [
        {
          "output_type": "stream",
          "name": "stdout",
          "text": [
            "True\n",
            "False\n",
            "False\n",
            "True\n"
          ]
        }
      ]
    }
  ]
}